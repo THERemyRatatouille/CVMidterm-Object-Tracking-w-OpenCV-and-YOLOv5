{
 "cells": [
  {
   "cell_type": "markdown",
   "id": "139e3f7a",
   "metadata": {},
   "source": [
    "## <span style=\"color:red\">Disclaimer:</span> This Triangulation file is for use in the Depth Estimation Program."
   ]
  },
  {
   "cell_type": "markdown",
   "id": "d6ea5f6e",
   "metadata": {},
   "source": [
    "# This Triangulation Program is designed to find the depth of objects tracked with a circle."
   ]
  },
  {
   "cell_type": "markdown",
   "id": "8d43c359",
   "metadata": {},
   "source": [
    "### First, import necessary libraries"
   ]
  },
  {
   "cell_type": "code",
   "execution_count": 1,
   "id": "4c070d25",
   "metadata": {},
   "outputs": [],
   "source": [
    "import sys\n",
    "import cv2\n",
    "import numpy as np\n",
    "import time"
   ]
  },
  {
   "cell_type": "markdown",
   "id": "d35338ad",
   "metadata": {},
   "source": [
    "### Then, define a function that calculates the depth\n"
   ]
  },
  {
   "cell_type": "code",
   "execution_count": 2,
   "id": "e4570e9a",
   "metadata": {},
   "outputs": [],
   "source": [
    "def find_depth(circle_right, circle_left, frame_right, frame_left, baseline, f, alpha):\n",
    "    \n",
    "    #Convert focal length f from [mm] to [pixel]\n",
    "    height_right, width_right, depth_right = frame_right.shape\n",
    "    height_left, width_left, depth_left = frame_left.shape\n",
    "    \n",
    "    if width_right == width_left:\n",
    "        f_pixel = (width_right * 0.5) / np.tan(alpha * 0.5 * np.pi/180) #focal length conversion from mm to pixel\n",
    "        \n",
    "    else:\n",
    "        print(\"Left and right camera frames do not have the same pixel width \") #both frames must have the same width for triangulation to work\n",
    "        \n",
    "    x_right = circle_right[0]\n",
    "    x_left = circle_left[0]\n",
    "    \n",
    "    #Calculate disparity\n",
    "    disparity = x_left - x_right\n",
    "    \n",
    "    #Calculate depth\n",
    "    zDepth = (baseline*f_pixel)/disparity #Depth in cm\n",
    "    \n",
    "    return abs(zDepth)\n",
    "    "
   ]
  }
 ],
 "metadata": {
  "kernelspec": {
   "display_name": "Python 3 (ipykernel)",
   "language": "python",
   "name": "python3"
  },
  "language_info": {
   "codemirror_mode": {
    "name": "ipython",
    "version": 3
   },
   "file_extension": ".py",
   "mimetype": "text/x-python",
   "name": "python",
   "nbconvert_exporter": "python",
   "pygments_lexer": "ipython3",
   "version": "3.9.12"
  }
 },
 "nbformat": 4,
 "nbformat_minor": 5
}
