{
 "cells": [
  {
   "cell_type": "markdown",
   "id": "108ef150",
   "metadata": {},
   "source": [
    "# Calculating Horizontal and Vertical Offset from the Center of a Detection"
   ]
  },
  {
   "cell_type": "code",
   "execution_count": 2,
   "id": "6a78ab22",
   "metadata": {},
   "outputs": [],
   "source": [
    "#import the standard libraries\n",
    "import sys\n",
    "import cv2\n",
    "import math\n",
    "import numpy as np\n",
    "import time\n",
    "import imutils\n",
    "from matplotlib import pyplot as plt"
   ]
  },
  {
   "cell_type": "code",
   "execution_count": 11,
   "id": "b4ee04aa",
   "metadata": {},
   "outputs": [],
   "source": [
    "def find_HV_angle(frame, camera):\n",
    "    \n",
    "    img = cv2.imread(frame)\n",
    "    cv2.imshow('Image', img)\n",
    "    \n",
    "    #Converting the image frame to grayscale\n",
    "    gryscl = cvtColor(img, cv.COLOR_BGR2GRAY)\n",
    "    \n",
    "    #Convert to binary\n",
    "    _, bin_img = cv.threshold(gryscl, 50, 255, cv.THRESH_BINARY | cv.THRESH_OTSU)\n",
    "    \n",
    "    #Calculate contours\n",
    "    contours, _ = cv.findContours(bw, cv.RETR_LIST, cv.CHAIN_APPROX_NONE)\n",
    "    \n",
    "    for i, j in enumerate(contours):\n",
    "        \n",
    "        #Find area contour\n",
    "        area = cv.contourArea(j)\n",
    "        \n",
    "        #ignore tiny or very large contours\n",
    "        if area > 100000 or area < 5000:\n",
    "            continue\n",
    " \n",
    "        min_rect = cv.minAreaRect(c)\n",
    "        box = cv.boxPoints(rect)\n",
    "        box = np.int0(box)\n",
    "        \n",
    "        cen = (int(rect[0][0]), int(rect[0][1])) #get center value\n",
    "        w = int(rect[1][0]) #width\n",
    "        h = int(rect[1][1]) #height\n",
    "        angle = int(rect[2]) #finds the angle\n",
    "        \n",
    "        if w < h:\n",
    "            angle = 90 - angle\n",
    "        else: angle *= -1\n",
    "        \n",
    "        cv.putText(\"Angle: \" + str(angle) + \" degrees\", (75,50), cv2.FONT_HERSHEY_SIMPLEX, 0.7, (124,252,0), 2)\n",
    "        \n",
    "        \n",
    "    \n",
    "    return angle"
   ]
  }
 ],
 "metadata": {
  "kernelspec": {
   "display_name": "Python 3 (ipykernel)",
   "language": "python",
   "name": "python3"
  },
  "language_info": {
   "codemirror_mode": {
    "name": "ipython",
    "version": 3
   },
   "file_extension": ".py",
   "mimetype": "text/x-python",
   "name": "python",
   "nbconvert_exporter": "python",
   "pygments_lexer": "ipython3",
   "version": "3.9.12"
  }
 },
 "nbformat": 4,
 "nbformat_minor": 5
}
