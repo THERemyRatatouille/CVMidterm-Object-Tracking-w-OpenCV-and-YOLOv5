{
 "cells": [
  {
   "cell_type": "markdown",
   "id": "8cb564f5",
   "metadata": {},
   "source": [
    "## <span style=\"color:red\">Disclaimer:</span> This Shape Recognition file is for use in the Depth Estimation Program."
   ]
  },
  {
   "cell_type": "markdown",
   "id": "f9ee3910",
   "metadata": {},
   "source": [
    "# This Shape Recognition Program is designed to detect shapes in an image."
   ]
  },
  {
   "cell_type": "markdown",
   "id": "31ba0ab3",
   "metadata": {},
   "source": [
    "### First, import necessary libraries"
   ]
  },
  {
   "cell_type": "code",
   "execution_count": 4,
   "id": "fea30ad3",
   "metadata": {},
   "outputs": [],
   "source": [
    "import sys\n",
    "import cv2\n",
    "import numpy as np\n",
    "import time\n",
    "import imutils"
   ]
  },
  {
   "cell_type": "markdown",
   "id": "83b988b0",
   "metadata": {},
   "source": [
    "### Then, define a function that detects circles"
   ]
  },
  {
   "cell_type": "code",
   "execution_count": 6,
   "id": "710cf1ba",
   "metadata": {},
   "outputs": [],
   "source": [
    "def find_circles(frame, mask):\n",
    "    \n",
    "    contours = cv2.findContours(mask.copy(), cv2.RETR_EXTERNAL, cv2.CHAIN_APPROX_SIMPLE)\n",
    "    contours = imutils.grab_contours(contours)\n",
    "    center = None\n",
    "    \n",
    "    #Only proceed if at least one contour is found\n",
    "    if len(contours) > 0:\n",
    "        #Find the largest contour in the mask, then use that value to find the minimum enclosing circle and centroid\n",
    "        c = max(contours, key = cv2.contourArea) #Finds the largest contour\n",
    "        ((x,y),radius) = cv2.minEnclosingCircle(c); #Creates a minimum enclosing circle based on the largest contour\n",
    "        M = cv2.moments(c) #Finds the center point\n",
    "        center = (int(M[\"m10\"] / M[\"m00\"]), int(M[\"m01\"] / M[\"m00\"]) )\n",
    "        \n",
    "        #Only proceed if the radius is greater than a minimum value\n",
    "        if radius > 10:\n",
    "            #Draw the cirle and centroid on the frame and update the list of tracked points\n",
    "            cv2.circle(frame, (int(x), int(y)), int(radius), (0,255,255), 2)\n",
    "            cv2.circle(frame, center, 5, (0,0,0), -1)\n",
    "        \n",
    "    return center        \n",
    "    \n",
    "    "
   ]
  }
 ],
 "metadata": {
  "kernelspec": {
   "display_name": "Python 3 (ipykernel)",
   "language": "python",
   "name": "python3"
  },
  "language_info": {
   "codemirror_mode": {
    "name": "ipython",
    "version": 3
   },
   "file_extension": ".py",
   "mimetype": "text/x-python",
   "name": "python",
   "nbconvert_exporter": "python",
   "pygments_lexer": "ipython3",
   "version": "3.9.12"
  }
 },
 "nbformat": 4,
 "nbformat_minor": 5
}
