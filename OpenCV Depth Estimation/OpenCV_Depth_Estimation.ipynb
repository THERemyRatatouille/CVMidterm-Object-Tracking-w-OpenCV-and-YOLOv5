{
 "cells": [
  {
   "cell_type": "markdown",
   "id": "4b36497c",
   "metadata": {},
   "source": [
    "# Python Depth Estimation With Stereo Vision"
   ]
  },
  {
   "cell_type": "markdown",
   "id": "d6f7b462",
   "metadata": {},
   "source": [
    "### This code is desgined to perform depth estimation on <span style=\"color:red\">red</span> objects."
   ]
  },
  {
   "cell_type": "code",
   "execution_count": 3,
   "id": "c31f34e3",
   "metadata": {},
   "outputs": [],
   "source": [
    "#Import necessary libraries and functions\n",
    "import sys\n",
    "import cv2\n",
    "import numpy as np\n",
    "import time\n",
    "import imutils\n",
    "from matplotlib import pyplot as plt\n",
    "\n",
    "#Functions, will implement in different .py files\n",
    "import HSV_filter as hsv\n",
    "import shape_recognition as shape\n",
    "import triangulation as tri"
   ]
  },
  {
   "cell_type": "markdown",
   "id": "bee500d2",
   "metadata": {},
   "source": [
    "### For depth estimation to work, both a left and right camera must be used."
   ]
  },
  {
   "cell_type": "code",
   "execution_count": 4,
   "id": "412c1545",
   "metadata": {},
   "outputs": [],
   "source": [
    "#Open both left and right cameras\n",
    "cap_right = cv2.VideoCapture(0, cv2.CAP_DSHOW)\n",
    "cap_left = cv2.VideoCapture(1, cv2.CAP_DSHOW)"
   ]
  },
  {
   "cell_type": "markdown",
   "id": "d7e36592",
   "metadata": {},
   "source": [
    "### We must also initialize some basic camera values."
   ]
  },
  {
   "cell_type": "code",
   "execution_count": 5,
   "id": "5c3039b6",
   "metadata": {},
   "outputs": [],
   "source": [
    "frame_rate = 120 #Camera frame rate (Max 120 fps)\n",
    "\n",
    "B = 9 #Distance between left and right camera [cm]\n",
    "f = 6 #Camera Lens's focal length [cm]\n",
    "alpha = 56.6 #Camera's field of view in the horizontal plane [degrees]\n"
   ]
  },
  {
   "cell_type": "code",
   "execution_count": 6,
   "id": "83e437f5",
   "metadata": {},
   "outputs": [],
   "source": [
    "#Initial values\n",
    "count = -1\n",
    "\n",
    "while(True):\n",
    "    count += 1\n",
    "    \n",
    "    #reading from both left and right camera\n",
    "    ret_right, frame_right = cap_right.read() #ret is a boolean that returns whether or not there is an available frame\n",
    "    ret_left, frame_left = cap_left.read()\n",
    "    \n",
    "    #If a frame cannot be captures from either the left or right camera, break the loop\n",
    "    if ret_right == False or ret_left == False:\n",
    "        break\n",
    "        \n",
    "    else:\n",
    "        #APPLYING HSV-FILTER\n",
    "        mask_right = hsv.add_HSV_filter(frame_right, 1)\n",
    "        mask_left = hsv.add_HSV_filter(frame_left, 1)\n",
    "        \n",
    "        #Calculate resulting frames after applying HSV-filter mask\n",
    "        res_right = cv2.bitwise_and(frame_right, frame_right, mask=mask_right) #segment the resulting right frame by bitwise anding the original right frame and its mask \n",
    "        res_left = cv2.bitwise_and(frame.left, frame_left, mask = mask_left) #segment the resulting right frame by bitwise anding the original left frame and its mask\n",
    "        \n",
    "        #APPLYING SHAPE RECOGNITION\n",
    "        circles_right = shape.find_circles(frame_right, mask_right)\n",
    "        circles_left = shape.find_circles(frame_left, mask_left)\n",
    "        \n",
    "        #If no ball/circle can be caught in the right or left camera, show text \"TRACKING LOST\"\n",
    "        if np.all(circles_right) == None or np.all(circles_left == None):\n",
    "            cv2.putText(frame_right, \"TRACKING LOST\", (75,50), cv2.FONT_HERSHEY_SIMPLEX, 0.7, (0,0,255), 2)\n",
    "            cv2.putText(frame_left, \"TRACKING LOST\", (75,50), cv2.FONT_HERSHEY_SIMPLEX, 0.7, (0,0,255), 2)\n",
    "            \n",
    "        else:\n",
    "            #Use triangulation to calculate object depth\n",
    "            #Function to calculate depth of object. Outputs vetor of all depths in case of several balls/circles\n",
    "            depth = tri.find_depth(circles_right, circles_left, frame_right, frame_left, B, f, alpha)\n",
    "            \n",
    "            cv2.putText(frame_right, \"TRACKING\", (75,50), cv2.FONT_HERSHEY_SIMPLEX, 0.7, (124,252,0), 2)\n",
    "            cv2.putText(frame_left, \"TRACKING\", (75,50), cv2.FONT_HERSHEY_SIMPLEX, 0.7, (124,252,0), 2)\n",
    "            cv2.putText(frame_right, \"Distance: \" + str(round(depth, 3)), (200,50), cv2.FONT_HERSHEY_SIMPLEX, 0.7, (124,252,0), 2)\n",
    "            cv2.putText(frame_left, \"Distance: \" + str(round(depth, 3)), (200,50), cv2.FONT_HERSHEY_SIMPLEX, 0.7, (124,252,0), 2)\n",
    "               \n",
    "            print(\"Depth: \", depth)\n",
    "            \n",
    "        #Show frames\n",
    "        cv2.imshow(\"frame right\", frame_right)\n",
    "        cv2.imshow(\"frame left\", frame_left)\n",
    "        cv2.imshow(\"mask right\", mask_right)\n",
    "        cv2.imshow(\"mask left\", mask_left)\n",
    "\n",
    "        if cv2.waitKey(1) & 0xFF == ord('q'): #Press q to close the window\n",
    "            break\n",
    "#Release and destroy all windows before termination\n",
    "cap_right.release()\n",
    "cap_left.release()\n",
    "\n",
    "        "
   ]
  },
  {
   "cell_type": "code",
   "execution_count": null,
   "id": "145ec46d",
   "metadata": {},
   "outputs": [],
   "source": []
  }
 ],
 "metadata": {
  "kernelspec": {
   "display_name": "Python 3 (ipykernel)",
   "language": "python",
   "name": "python3"
  },
  "language_info": {
   "codemirror_mode": {
    "name": "ipython",
    "version": 3
   },
   "file_extension": ".py",
   "mimetype": "text/x-python",
   "name": "python",
   "nbconvert_exporter": "python",
   "pygments_lexer": "ipython3",
   "version": "3.9.12"
  }
 },
 "nbformat": 4,
 "nbformat_minor": 5
}
