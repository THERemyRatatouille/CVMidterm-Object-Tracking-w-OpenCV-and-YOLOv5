{
 "cells": [
  {
   "cell_type": "markdown",
   "id": "5b800912",
   "metadata": {},
   "source": [
    "## <span style=\"color:red\">Disclaimer:</span> This HSV Filter file is for use in the Depth Estimation Program."
   ]
  },
  {
   "cell_type": "markdown",
   "id": "552a2e33",
   "metadata": {},
   "source": [
    "# This HSV Filter Program is designed to convert a color image into a binary black-and-white image. "
   ]
  },
  {
   "cell_type": "markdown",
   "id": "7d7b4e66",
   "metadata": {},
   "source": [
    "### First, import necessary libraries"
   ]
  },
  {
   "cell_type": "code",
   "execution_count": 1,
   "id": "9bfc8450",
   "metadata": {},
   "outputs": [],
   "source": [
    "import sys\n",
    "import cv2\n",
    "import numpy as np\n",
    "import time"
   ]
  },
  {
   "cell_type": "markdown",
   "id": "7e648090",
   "metadata": {},
   "source": [
    "### Then, define a HSV Filter Method"
   ]
  },
  {
   "cell_type": "code",
   "execution_count": 3,
   "id": "bd6545bb",
   "metadata": {},
   "outputs": [],
   "source": [
    "def add_HSV_filter(frame, camera):\n",
    "    \n",
    "    #Blurring the frame\n",
    "    blur = cv2.GaussianBlur(frame,(5,5),0) #Gaussian Blur is applied in order to reduce noise from camera\n",
    "    \n",
    "    #Converting RGB to HSV\n",
    "    hsv = cv2.cvtColor(blur, cv2.COLOR_BGR2HSV)\n",
    "    \n",
    "    #create lower and upper limits for left and right image\n",
    "    l_b_r = np.array([60,110,50]) #Lower limit for red ball since we are trying to track the color red\n",
    "    u_b_r = np.array([255,255,255]) #Upper limit for red ball\n",
    "    u_b_b = np.array([110,50,50]) #Lower limit for blue ball\n",
    "    l_b_b = np.array([130,255,255]) #Upper limit for blue ball\n",
    "    \n",
    "    \n",
    "    \n",
    "    red_mask = cv2.inRange(hsv, l_b_r, u_b_r)\n",
    "    \n",
    "    blue_mask = cv2.inRange(hsv, l_b_b, u_b_b)\n",
    "    \n",
    "    #erosion and dilation are performed to reduce the noise of our image\n",
    "    mask = cv2.erode(mask, None, iterations=2)\n",
    "    mask = cv2.dilate(mask, note, iterations=2)\n",
    "    \n",
    "    return mask"
   ]
  },
  {
   "cell_type": "code",
   "execution_count": null,
   "id": "0978820e",
   "metadata": {},
   "outputs": [],
   "source": []
  }
 ],
 "metadata": {
  "kernelspec": {
   "display_name": "Python 3 (ipykernel)",
   "language": "python",
   "name": "python3"
  },
  "language_info": {
   "codemirror_mode": {
    "name": "ipython",
    "version": 3
   },
   "file_extension": ".py",
   "mimetype": "text/x-python",
   "name": "python",
   "nbconvert_exporter": "python",
   "pygments_lexer": "ipython3",
   "version": "3.9.12"
  }
 },
 "nbformat": 4,
 "nbformat_minor": 5
}
