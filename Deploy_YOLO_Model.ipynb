{
 "cells": [
  {
   "cell_type": "markdown",
   "id": "31aa2663",
   "metadata": {},
   "source": [
    "# YOLOv5 Object Detection Model with OpenCV"
   ]
  },
  {
   "cell_type": "markdown",
   "id": "f077fa09",
   "metadata": {},
   "source": [
    "### This is designed to detect objects in an uploaded YouTube video."
   ]
  },
  {
   "cell_type": "markdown",
   "id": "e4c3e535",
   "metadata": {},
   "source": [
    "### First, import necessary libraries"
   ]
  },
  {
   "cell_type": "code",
   "execution_count": 1,
   "id": "a7139ef5",
   "metadata": {},
   "outputs": [],
   "source": [
    "import torch\n",
    "import numpy as np\n",
    "import cv2\n",
    "import pafy\n",
    "from time import time"
   ]
  },
  {
   "cell_type": "markdown",
   "id": "6d65d913",
   "metadata": {},
   "source": [
    "### Next, implement an object detection class"
   ]
  },
  {
   "cell_type": "code",
   "execution_count": 4,
   "id": "6717bcd5",
   "metadata": {},
   "outputs": [],
   "source": [
    "class ObjectDetection:\n",
    "    #Class implements Yolo5 model to make inferences on a youtube video using OpenCV.\n",
    "    \n",
    "    def __init__(self, url, out_file):\n",
    "        #Initializes the class with YouTube URL and output file.\n",
    "        #:param url: The prediction we make has to be on a YouTube URL.\n",
    "        #:param out_file: A valid output file name.\n",
    "        \n",
    "        self._URL = url\n",
    "        self.model = self.load_model()\n",
    "        self.classes = self.model.names\n",
    "        self.out_file = out_file\n",
    "        self.device = 'cuda' if torch.cuda.is_available() else 'cpu' #use cpu if pytorch gpu support isn't there\n",
    "        print(\"\\n\\nDevice Used: \", self.device)\n",
    "        \n",
    "    def get_video_from_url(self):\n",
    "        #Creates a new video streaming object to extract frames from to make predictions on.\n",
    "        # returns opencv2 video capture object with lowest quality frame available for video.\n",
    "        \n",
    "        play = pafy.new(self._URL).streams[-1]\n",
    "        assert play is not None #otherwise we can't load in the URL\n",
    "        return cv2.VideoCapture(play.url)\n",
    "    \n",
    "    def load_model(self):\n",
    "        \n",
    "        #Loads YOLOv5 model from PyTorch hub.\n",
    "        #returns trained PyTorch model.\n",
    "        \n",
    "        model = torch.hub.load('ultralytics/yolov5', 'yolov5s', pretrained = True)\n",
    "        return model\n",
    "    \n",
    "    def score_frame(self, frame):\n",
    "        \n",
    "        #Takes a single frame as input, and scores the frame using YOLOv5 model.\n",
    "        #:param frame: input frame in numpy/list/tuple format\n",
    "        #returns Labels and Coordinates of objects detected by model in the frame.\n",
    "        \n",
    "        self.model.to(self.device)\n",
    "        frame = [frame]\n",
    "        results = self.model(frame)\n",
    "        \n",
    "        labels, cord = results.xyxyn[0][:,-1], results.xyxyn[0][:,:-1] #xyxyn represents the coordinates and label values\n",
    "        return labels, cord\n",
    "    \n",
    "    \n",
    "    def class_to_label(self, x):\n",
    "        #For a given label value, return corresponding string label\n",
    "        #:param: numeric label\n",
    "        #return corresponding string label\n",
    "        \n",
    "        return self.classes[int(x)]\n",
    "    \n",
    "    def plot_boxes(self, results, frame):\n",
    "        \n",
    "        #Takes a frame and its results as an input, and plots the bounding boxes and lavel onto the frame.\n",
    "        #:param results: contains labels ad coordinates predicted by model on the given frame\n",
    "        #return frame with bouding boxes and labels plotted on it.\n",
    "        \n",
    "        labels, cord = results\n",
    "        n = len(labels)\n",
    "        x_shape, y_shape = frame.shape[1], frame.shape[0]\n",
    "        \n",
    "        for i in range(n):\n",
    "            row = cord[i]\n",
    "            if row[4] >= 0.2:\n",
    "                x1, y1, x2, y2 = int(row[0]*x_shape), int(row[1]*y_shape), int(row[2]*x_shape), int(row[3]*y_shape)\n",
    "                bgr = (0,255,0)\n",
    "                cv2.rectangle(frame, (x1,y1), (x2,y2), bgr, 2)\n",
    "                cv2.putText(frame, self.class_to_label(labels[i]), (x1,y1), cv2.FONT_HERSHEY_SIMPLEX, 0.9, (0,0,255), 2)\n",
    "        \n",
    "        return frame\n",
    "    \n",
    "    \n",
    "    def __call__(self):\n",
    "        \n",
    "        #This function is called when the class is executed, it runs the loop to read the video frame by frame and writes the output to a new fie\n",
    "        \n",
    "        player = self.get_video_from_url()\n",
    "        assert player.isOpened()\n",
    "        x_shape = int(player.get(cv2.CAP_PROP_FRAME_WIDTH))\n",
    "        y_shape = int(player.get(cv2.CAP_PROP_FRAME_HEIGHT))\n",
    "        four_cc = cv2.VideoWriter_fourcc(*\"MJPG\")\n",
    "        out = cv2.VideoWriter(self.out_file, four_cc, 20, (x_shape, y_shape))\n",
    "        \n",
    "        while True: #while there are frames in video, call these functions\n",
    "            start_time = time()\n",
    "            ret, frame = player.read()\n",
    "            if not ret:\n",
    "                break\n",
    "            \n",
    "            results = self.score_frame(frame)\n",
    "            frame = self.plot_boxes(results, frame)\n",
    "            end_time = time()\n",
    "            fps = 1/np.round(end_time - start_time, 3)\n",
    "            print(f\"Frames Per Second : {fps}\")\n",
    "            out.write(frame)\n",
    "        \n",
    "\n",
    "#Create a new object and execute\n",
    "#detection = ObjectDetection(\"insert youtube URL here\", \".avi file here\")\n",
    "#detection()\n",
    "        "
   ]
  },
  {
   "cell_type": "code",
   "execution_count": null,
   "id": "3e5d3528",
   "metadata": {},
   "outputs": [],
   "source": []
  }
 ],
 "metadata": {
  "kernelspec": {
   "display_name": "Python 3 (ipykernel)",
   "language": "python",
   "name": "python3"
  },
  "language_info": {
   "codemirror_mode": {
    "name": "ipython",
    "version": 3
   },
   "file_extension": ".py",
   "mimetype": "text/x-python",
   "name": "python",
   "nbconvert_exporter": "python",
   "pygments_lexer": "ipython3",
   "version": "3.9.12"
  }
 },
 "nbformat": 4,
 "nbformat_minor": 5
}
